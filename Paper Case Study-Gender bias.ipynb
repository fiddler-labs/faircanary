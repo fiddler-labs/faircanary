{
 "cells": [
  {
   "cell_type": "markdown",
   "metadata": {},
   "source": [
    "# The Data\n",
    "\n",
    "### The features are:\n",
    "\n",
    "1. Location - {'US', 'EU'} - 70:30 \n",
    "2. Education - {'GRAD','POST_GRAD'} - 80:20\n",
    "3. Experience - years - (0, 50)  - normal\n",
    "4. Engineer Type - {'Software','Hardware'} - 85:15\n",
    "5. Age - years - (18, 65) - not used directly in the model  - normal\n",
    "6. Gender - {'M', 'F', 'NB'} - not used directly in the model  - 45:45:10\n",
    "7. Relevant Experience - years - (0, 50)  - normal\n",
    "\n",
    "Dataset size 10,000 rows"
   ]
  },
  {
   "cell_type": "code",
   "execution_count": 1,
   "metadata": {},
   "outputs": [],
   "source": [
    "import numpy as np\n",
    "import pandas as pd\n",
    "import matplotlib.pyplot as plt\n",
    "import seaborn as sns\n",
    "# pytorch relates imports\n",
    "import torch\n",
    "import torch.nn as nn\n",
    "import torch.optim as optim\n",
    "np.random.seed(0)"
   ]
  },
  {
   "cell_type": "code",
   "execution_count": 2,
   "metadata": {},
   "outputs": [],
   "source": [
    "import os\n",
    "import sys\n",
    "module_path = os.path.abspath(os.path.join('..'))\n",
    "if module_path not in sys.path:\n",
    "    sys.path.append(module_path)"
   ]
  },
  {
   "cell_type": "code",
   "execution_count": 3,
   "metadata": {},
   "outputs": [],
   "source": [
    "from drift_utils import drift_metrics, drift_attribution, data_generation_utils"
   ]
  },
  {
   "cell_type": "code",
   "execution_count": 4,
   "metadata": {},
   "outputs": [],
   "source": [
    "df = pd.DataFrame(columns=['job_location', 'education', 'experience', 'engg_type', 'age', 'gender', 'relevant_exp'])\n",
    "DATASET_SIZE = 10000"
   ]
  },
  {
   "cell_type": "code",
   "execution_count": 5,
   "metadata": {},
   "outputs": [],
   "source": [
    "location_prob  = 0.7\n",
    "df['job_location'] = np.random.binomial(1, location_prob, (DATASET_SIZE, 1))[:,0]\n",
    "df['job_location']  = df['job_location'].apply(lambda x: 'A' if x == 1 else 'B').astype('category')"
   ]
  },
  {
   "cell_type": "code",
   "execution_count": 6,
   "metadata": {},
   "outputs": [],
   "source": [
    "education_prob  = 0.4\n",
    "df['education'] = np.random.binomial(1, education_prob, (DATASET_SIZE, 1))[:,0]\n",
    "df['education']  = df['education'].apply(lambda x: 'POST_GRAD' if x == 1 else 'GRAD')"
   ]
  },
  {
   "cell_type": "code",
   "execution_count": 7,
   "metadata": {},
   "outputs": [],
   "source": [
    "engg_prob  = 0.85\n",
    "df['engg_type'] = np.random.binomial(1, engg_prob, (DATASET_SIZE, 1))[:,0]\n",
    "df['engg_type']  = df['engg_type'].apply(lambda x: 'SOFTWARE' if x == 1 else 'HARDWARE').astype('category')"
   ]
  },
  {
   "cell_type": "code",
   "execution_count": 8,
   "metadata": {},
   "outputs": [],
   "source": [
    "gender_prob  = 0.5\n",
    "df['gender'] = np.random.binomial(1, gender_prob, (DATASET_SIZE, 1))[:,0]\n",
    "df['gender']  = df['gender'].apply(lambda x: 'M' if x == 1 else 'F').astype('category')"
   ]
  },
  {
   "cell_type": "code",
   "execution_count": 9,
   "metadata": {},
   "outputs": [],
   "source": [
    "age = np.random.normal(35, 10, size=DATASET_SIZE)\n",
    "age = np.clip(age, 18, 60)\n",
    "df['age'] = np.round(age, 2)\n",
    "\n",
    "experience = np.clip(age - 30 + np.random.randn(DATASET_SIZE), 0, 40)\n",
    "df['experience'] = np.round(experience, 2)\n",
    "\n",
    "relevant_experience = np.clip(experience - np.abs(np.random.randn(DATASET_SIZE)), 0, 40)\n",
    "df['relevant_exp'] = np.round(relevant_experience, 2)"
   ]
  },
  {
   "cell_type": "code",
   "execution_count": 10,
   "metadata": {},
   "outputs": [
    {
     "data": {
      "text/html": [
       "<div>\n",
       "<style scoped>\n",
       "    .dataframe tbody tr th:only-of-type {\n",
       "        vertical-align: middle;\n",
       "    }\n",
       "\n",
       "    .dataframe tbody tr th {\n",
       "        vertical-align: top;\n",
       "    }\n",
       "\n",
       "    .dataframe thead th {\n",
       "        text-align: right;\n",
       "    }\n",
       "</style>\n",
       "<table border=\"1\" class=\"dataframe\">\n",
       "  <thead>\n",
       "    <tr style=\"text-align: right;\">\n",
       "      <th></th>\n",
       "      <th>job_location</th>\n",
       "      <th>education</th>\n",
       "      <th>experience</th>\n",
       "      <th>engg_type</th>\n",
       "      <th>age</th>\n",
       "      <th>gender</th>\n",
       "      <th>relevant_exp</th>\n",
       "    </tr>\n",
       "  </thead>\n",
       "  <tbody>\n",
       "    <tr>\n",
       "      <th>0</th>\n",
       "      <td>A</td>\n",
       "      <td>POST_GRAD</td>\n",
       "      <td>0.00</td>\n",
       "      <td>SOFTWARE</td>\n",
       "      <td>22.70</td>\n",
       "      <td>M</td>\n",
       "      <td>0.00</td>\n",
       "    </tr>\n",
       "    <tr>\n",
       "      <th>1</th>\n",
       "      <td>B</td>\n",
       "      <td>GRAD</td>\n",
       "      <td>0.00</td>\n",
       "      <td>SOFTWARE</td>\n",
       "      <td>29.43</td>\n",
       "      <td>M</td>\n",
       "      <td>0.00</td>\n",
       "    </tr>\n",
       "    <tr>\n",
       "      <th>2</th>\n",
       "      <td>A</td>\n",
       "      <td>GRAD</td>\n",
       "      <td>0.00</td>\n",
       "      <td>HARDWARE</td>\n",
       "      <td>26.57</td>\n",
       "      <td>F</td>\n",
       "      <td>0.00</td>\n",
       "    </tr>\n",
       "    <tr>\n",
       "      <th>3</th>\n",
       "      <td>A</td>\n",
       "      <td>GRAD</td>\n",
       "      <td>4.78</td>\n",
       "      <td>SOFTWARE</td>\n",
       "      <td>34.53</td>\n",
       "      <td>M</td>\n",
       "      <td>4.00</td>\n",
       "    </tr>\n",
       "    <tr>\n",
       "      <th>4</th>\n",
       "      <td>A</td>\n",
       "      <td>GRAD</td>\n",
       "      <td>1.47</td>\n",
       "      <td>HARDWARE</td>\n",
       "      <td>32.88</td>\n",
       "      <td>M</td>\n",
       "      <td>0.40</td>\n",
       "    </tr>\n",
       "    <tr>\n",
       "      <th>...</th>\n",
       "      <td>...</td>\n",
       "      <td>...</td>\n",
       "      <td>...</td>\n",
       "      <td>...</td>\n",
       "      <td>...</td>\n",
       "      <td>...</td>\n",
       "      <td>...</td>\n",
       "    </tr>\n",
       "    <tr>\n",
       "      <th>9995</th>\n",
       "      <td>A</td>\n",
       "      <td>POST_GRAD</td>\n",
       "      <td>0.00</td>\n",
       "      <td>SOFTWARE</td>\n",
       "      <td>30.55</td>\n",
       "      <td>M</td>\n",
       "      <td>0.00</td>\n",
       "    </tr>\n",
       "    <tr>\n",
       "      <th>9996</th>\n",
       "      <td>A</td>\n",
       "      <td>GRAD</td>\n",
       "      <td>0.00</td>\n",
       "      <td>SOFTWARE</td>\n",
       "      <td>18.00</td>\n",
       "      <td>M</td>\n",
       "      <td>0.00</td>\n",
       "    </tr>\n",
       "    <tr>\n",
       "      <th>9997</th>\n",
       "      <td>B</td>\n",
       "      <td>GRAD</td>\n",
       "      <td>13.13</td>\n",
       "      <td>HARDWARE</td>\n",
       "      <td>42.04</td>\n",
       "      <td>M</td>\n",
       "      <td>12.08</td>\n",
       "    </tr>\n",
       "    <tr>\n",
       "      <th>9998</th>\n",
       "      <td>A</td>\n",
       "      <td>GRAD</td>\n",
       "      <td>5.08</td>\n",
       "      <td>SOFTWARE</td>\n",
       "      <td>34.94</td>\n",
       "      <td>F</td>\n",
       "      <td>5.06</td>\n",
       "    </tr>\n",
       "    <tr>\n",
       "      <th>9999</th>\n",
       "      <td>B</td>\n",
       "      <td>POST_GRAD</td>\n",
       "      <td>0.00</td>\n",
       "      <td>SOFTWARE</td>\n",
       "      <td>30.57</td>\n",
       "      <td>M</td>\n",
       "      <td>0.00</td>\n",
       "    </tr>\n",
       "  </tbody>\n",
       "</table>\n",
       "<p>10000 rows × 7 columns</p>\n",
       "</div>"
      ],
      "text/plain": [
       "     job_location  education  experience engg_type    age gender  relevant_exp\n",
       "0               A  POST_GRAD        0.00  SOFTWARE  22.70      M          0.00\n",
       "1               B       GRAD        0.00  SOFTWARE  29.43      M          0.00\n",
       "2               A       GRAD        0.00  HARDWARE  26.57      F          0.00\n",
       "3               A       GRAD        4.78  SOFTWARE  34.53      M          4.00\n",
       "4               A       GRAD        1.47  HARDWARE  32.88      M          0.40\n",
       "...           ...        ...         ...       ...    ...    ...           ...\n",
       "9995            A  POST_GRAD        0.00  SOFTWARE  30.55      M          0.00\n",
       "9996            A       GRAD        0.00  SOFTWARE  18.00      M          0.00\n",
       "9997            B       GRAD       13.13  HARDWARE  42.04      M         12.08\n",
       "9998            A       GRAD        5.08  SOFTWARE  34.94      F          5.06\n",
       "9999            B  POST_GRAD        0.00  SOFTWARE  30.57      M          0.00\n",
       "\n",
       "[10000 rows x 7 columns]"
      ]
     },
     "execution_count": 10,
     "metadata": {},
     "output_type": "execute_result"
    }
   ],
   "source": [
    "df"
   ]
  },
  {
   "cell_type": "markdown",
   "metadata": {},
   "source": [
    "# The model\n",
    "\n",
    "### The model (inferred real world relation between Y (the salary of an applicant) and X (the input features)) is\n",
    "\n",
    "Salary = 50,000 + 20,000 * location + 20,000 * education+ 5,000 * relevant_experience + 100 * experience + 10,000 * engineer_type\n"
   ]
  },
  {
   "cell_type": "code",
   "execution_count": 11,
   "metadata": {},
   "outputs": [],
   "source": [
    "def transform_input(input_df):\n",
    "    transformed_df = input_df.copy(deep=True)\n",
    "    transformed_df['job_location'] = transformed_df['job_location'].apply(lambda x: 1 if x == 'A' else 0).astype('int')\n",
    "    transformed_df['education'] = transformed_df['education'].apply(lambda x: 1 if x == 'POST_GRAD' else 0).astype('int')\n",
    "    transformed_df['engg_type'] = transformed_df['engg_type'].apply(lambda x: 1 if x == 'SOFTWARE' else 0).astype('int')\n",
    "    if 'gender' in input_df.columns.tolist():\n",
    "        transformed_df['gender'] = transformed_df['gender'].apply(lambda x: 1 if x == 'M' else 0).astype('int')\n",
    "\n",
    "    return transformed_df\n",
    "\n",
    "transformed_df = transform_input(df)\n",
    "\n",
    "df['salary'] = 50000 + \\\n",
    "               20000*transformed_df['job_location'] + \\\n",
    "               20000*transformed_df['education'] + \\\n",
    "               5000*transformed_df['relevant_exp'] + \\\n",
    "               100*transformed_df['experience'] + \\\n",
    "               10000*transformed_df['engg_type']"
   ]
  },
  {
   "cell_type": "code",
   "execution_count": 12,
   "metadata": {},
   "outputs": [],
   "source": [
    "class LinearModel(nn.Module):\n",
    "    def __init__(self, w):\n",
    "        super().__init__()\n",
    "        m = len(w)\n",
    "        self.linear = nn.Linear(m, 1, bias=False)\n",
    "        self.linear.weight.data = w\n",
    "\n",
    "    def forward(self, input):\n",
    "        #print(self.linear(input))\n",
    "        return 50000 + self.linear(input)\n",
    "    \n",
    "def model_linear(X):\n",
    "    w = torch.tensor([20000, 20000, 5000, 100, 10000], dtype=torch.float64)\n",
    "    return LinearModel(w)(torch.tensor(X, dtype=torch.float64, requires_grad=True))"
   ]
  },
  {
   "cell_type": "code",
   "execution_count": 13,
   "metadata": {},
   "outputs": [],
   "source": [
    "feature_cols = ['job_location', 'education', 'relevant_exp', 'experience', 'engg_type']\n",
    "df_tensor = torch.tensor(transform_input(df[feature_cols]).values)"
   ]
  },
  {
   "cell_type": "code",
   "execution_count": 14,
   "metadata": {},
   "outputs": [
    {
     "name": "stderr",
     "output_type": "stream",
     "text": [
      "/home/avijit/anaconda3/envs/py37/lib/python3.7/site-packages/ipykernel_launcher.py:14: UserWarning: To copy construct from a tensor, it is recommended to use sourceTensor.clone().detach() or sourceTensor.clone().detach().requires_grad_(True), rather than torch.tensor(sourceTensor).\n",
      "  \n"
     ]
    },
    {
     "data": {
      "text/plain": [
       "6"
      ]
     },
     "execution_count": 14,
     "metadata": {},
     "output_type": "execute_result"
    }
   ],
   "source": [
    "sum(df['salary'].values != model_linear(df_tensor).detach().numpy())"
   ]
  },
  {
   "cell_type": "markdown",
   "metadata": {},
   "source": [
    "### Use this site to change the start and end times as per taste\n",
    "https://currentmillis.com/"
   ]
  },
  {
   "cell_type": "code",
   "execution_count": 259,
   "metadata": {},
   "outputs": [
    {
     "data": {
      "text/html": [
       "<div>\n",
       "<style scoped>\n",
       "    .dataframe tbody tr th:only-of-type {\n",
       "        vertical-align: middle;\n",
       "    }\n",
       "\n",
       "    .dataframe tbody tr th {\n",
       "        vertical-align: top;\n",
       "    }\n",
       "\n",
       "    .dataframe thead th {\n",
       "        text-align: right;\n",
       "    }\n",
       "</style>\n",
       "<table border=\"1\" class=\"dataframe\">\n",
       "  <thead>\n",
       "    <tr style=\"text-align: right;\">\n",
       "      <th></th>\n",
       "      <th>job_location</th>\n",
       "      <th>education</th>\n",
       "      <th>relevant_exp</th>\n",
       "      <th>experience</th>\n",
       "      <th>engg_type</th>\n",
       "      <th>time_stamp</th>\n",
       "      <th>salary</th>\n",
       "      <th>day</th>\n",
       "    </tr>\n",
       "  </thead>\n",
       "  <tbody>\n",
       "  </tbody>\n",
       "</table>\n",
       "</div>"
      ],
      "text/plain": [
       "Empty DataFrame\n",
       "Columns: [job_location, education, relevant_exp, experience, engg_type, time_stamp, salary, day]\n",
       "Index: []"
      ]
     },
     "execution_count": 259,
     "metadata": {},
     "output_type": "execute_result"
    }
   ],
   "source": [
    "from copy import deepcopy\n",
    "cols = feature_cols + ['time_stamp', 'salary', 'day']\n",
    "monitoring_df = pd.DataFrame(columns=cols)\n",
    "monitoring_df"
   ]
  },
  {
   "cell_type": "code",
   "execution_count": 260,
   "metadata": {},
   "outputs": [],
   "source": [
    "# 15th Jan 2021 00:00:00 PST \n",
    "# 16th Jan 2021 00:00:00 PST \n",
    "\n",
    "start_time = 1610697600000\n",
    "end_time = 1610784000000\n",
    "DATALOG_SIZE = 20000\n",
    "\n",
    "all_cols = feature_cols + ['gender']\n",
    "sampled_df = df[all_cols].sample(DATALOG_SIZE, replace=True, random_state=1)\n",
    "sampled_df['time_stamp'] = np.linspace(start_time, end_time, DATALOG_SIZE).astype(int)\n",
    "sampled_df = transform_input(sampled_df)\n",
    "sampled_df['salary'] = model_linear(sampled_df[feature_cols].values).detach().numpy()\n",
    "sampled_df['day'] = 1\n",
    "monitoring_df = monitoring_df.append(sampled_df)\n"
   ]
  },
  {
   "cell_type": "markdown",
   "metadata": {},
   "source": [
    "### This cell introduces a couple of data integrity issues\n",
    "\n",
    "1. 'us' instead of 'US'. This makes all job locations 'EU' and reduces the salary by 20k\n",
    "2. 'post_grad' instead of 'POST_GRAD'. This makes everyone a 'GRAD' and also reduces the salary by 20k"
   ]
  },
  {
   "cell_type": "code",
   "execution_count": 261,
   "metadata": {},
   "outputs": [],
   "source": [
    "# 16th Jan 2021 00:00:00 PST \n",
    "# 17th Jan 2021 00:00:00 PST \n",
    "\n",
    "start_time = 1610784000000\n",
    "end_time = 1610870400000\n",
    "DATALOG_SIZE = 20000\n",
    "\n",
    "def applyBias(gender, education):\n",
    "    if gender == 'M':\n",
    "        return education\n",
    "    else:\n",
    "        return 'post_grad'\n",
    "    \n",
    "messed_up_df = df[all_cols].copy(deep=True)\n",
    "#messed_up_df['job_location'] = messed_up_df['job_location'].apply(lambda x: 'a' if x == 'A' else 'B')\n",
    "#messed_up_df['education'] = messed_up_df['education'].apply(lambda x: 'post_grad' if x == 'POST_GRAD' else 'GRAD')\n",
    "\n",
    "messed_up_df['education'] = messed_up_df.apply(lambda x: applyBias(x['gender'], x['education']), axis=1)\n",
    "\n",
    "sampled_df = messed_up_df.sample(DATALOG_SIZE, replace=True, random_state=2)\n",
    "sampled_df['time_stamp'] = np.linspace(start_time, end_time, DATALOG_SIZE).astype(int)\n",
    "sampled_df = transform_input(sampled_df)\n",
    "\n",
    "sampled_df['salary'] = model_linear(sampled_df[feature_cols].values).detach().numpy()\n",
    "sampled_df['day'] = 2\n",
    "\n",
    "monitoring_df = monitoring_df.append(sampled_df)\n"
   ]
  },
  {
   "cell_type": "code",
   "execution_count": 262,
   "metadata": {},
   "outputs": [
    {
     "data": {
      "text/html": [
       "<div>\n",
       "<style scoped>\n",
       "    .dataframe tbody tr th:only-of-type {\n",
       "        vertical-align: middle;\n",
       "    }\n",
       "\n",
       "    .dataframe tbody tr th {\n",
       "        vertical-align: top;\n",
       "    }\n",
       "\n",
       "    .dataframe thead th {\n",
       "        text-align: right;\n",
       "    }\n",
       "</style>\n",
       "<table border=\"1\" class=\"dataframe\">\n",
       "  <thead>\n",
       "    <tr style=\"text-align: right;\">\n",
       "      <th></th>\n",
       "      <th>job_location</th>\n",
       "      <th>education</th>\n",
       "      <th>relevant_exp</th>\n",
       "      <th>experience</th>\n",
       "      <th>engg_type</th>\n",
       "      <th>gender</th>\n",
       "    </tr>\n",
       "  </thead>\n",
       "  <tbody>\n",
       "    <tr>\n",
       "      <th>0</th>\n",
       "      <td>A</td>\n",
       "      <td>POST_GRAD</td>\n",
       "      <td>0.00</td>\n",
       "      <td>0.00</td>\n",
       "      <td>SOFTWARE</td>\n",
       "      <td>M</td>\n",
       "    </tr>\n",
       "    <tr>\n",
       "      <th>1</th>\n",
       "      <td>B</td>\n",
       "      <td>GRAD</td>\n",
       "      <td>0.00</td>\n",
       "      <td>0.00</td>\n",
       "      <td>SOFTWARE</td>\n",
       "      <td>M</td>\n",
       "    </tr>\n",
       "    <tr>\n",
       "      <th>2</th>\n",
       "      <td>A</td>\n",
       "      <td>post_grad</td>\n",
       "      <td>0.00</td>\n",
       "      <td>0.00</td>\n",
       "      <td>HARDWARE</td>\n",
       "      <td>F</td>\n",
       "    </tr>\n",
       "    <tr>\n",
       "      <th>3</th>\n",
       "      <td>A</td>\n",
       "      <td>GRAD</td>\n",
       "      <td>4.00</td>\n",
       "      <td>4.78</td>\n",
       "      <td>SOFTWARE</td>\n",
       "      <td>M</td>\n",
       "    </tr>\n",
       "    <tr>\n",
       "      <th>4</th>\n",
       "      <td>A</td>\n",
       "      <td>GRAD</td>\n",
       "      <td>0.40</td>\n",
       "      <td>1.47</td>\n",
       "      <td>HARDWARE</td>\n",
       "      <td>M</td>\n",
       "    </tr>\n",
       "    <tr>\n",
       "      <th>...</th>\n",
       "      <td>...</td>\n",
       "      <td>...</td>\n",
       "      <td>...</td>\n",
       "      <td>...</td>\n",
       "      <td>...</td>\n",
       "      <td>...</td>\n",
       "    </tr>\n",
       "    <tr>\n",
       "      <th>9995</th>\n",
       "      <td>A</td>\n",
       "      <td>POST_GRAD</td>\n",
       "      <td>0.00</td>\n",
       "      <td>0.00</td>\n",
       "      <td>SOFTWARE</td>\n",
       "      <td>M</td>\n",
       "    </tr>\n",
       "    <tr>\n",
       "      <th>9996</th>\n",
       "      <td>A</td>\n",
       "      <td>GRAD</td>\n",
       "      <td>0.00</td>\n",
       "      <td>0.00</td>\n",
       "      <td>SOFTWARE</td>\n",
       "      <td>M</td>\n",
       "    </tr>\n",
       "    <tr>\n",
       "      <th>9997</th>\n",
       "      <td>B</td>\n",
       "      <td>GRAD</td>\n",
       "      <td>12.08</td>\n",
       "      <td>13.13</td>\n",
       "      <td>HARDWARE</td>\n",
       "      <td>M</td>\n",
       "    </tr>\n",
       "    <tr>\n",
       "      <th>9998</th>\n",
       "      <td>A</td>\n",
       "      <td>post_grad</td>\n",
       "      <td>5.06</td>\n",
       "      <td>5.08</td>\n",
       "      <td>SOFTWARE</td>\n",
       "      <td>F</td>\n",
       "    </tr>\n",
       "    <tr>\n",
       "      <th>9999</th>\n",
       "      <td>B</td>\n",
       "      <td>POST_GRAD</td>\n",
       "      <td>0.00</td>\n",
       "      <td>0.00</td>\n",
       "      <td>SOFTWARE</td>\n",
       "      <td>M</td>\n",
       "    </tr>\n",
       "  </tbody>\n",
       "</table>\n",
       "<p>10000 rows × 6 columns</p>\n",
       "</div>"
      ],
      "text/plain": [
       "     job_location  education  relevant_exp  experience engg_type gender\n",
       "0               A  POST_GRAD          0.00        0.00  SOFTWARE      M\n",
       "1               B       GRAD          0.00        0.00  SOFTWARE      M\n",
       "2               A  post_grad          0.00        0.00  HARDWARE      F\n",
       "3               A       GRAD          4.00        4.78  SOFTWARE      M\n",
       "4               A       GRAD          0.40        1.47  HARDWARE      M\n",
       "...           ...        ...           ...         ...       ...    ...\n",
       "9995            A  POST_GRAD          0.00        0.00  SOFTWARE      M\n",
       "9996            A       GRAD          0.00        0.00  SOFTWARE      M\n",
       "9997            B       GRAD         12.08       13.13  HARDWARE      M\n",
       "9998            A  post_grad          5.06        5.08  SOFTWARE      F\n",
       "9999            B  POST_GRAD          0.00        0.00  SOFTWARE      M\n",
       "\n",
       "[10000 rows x 6 columns]"
      ]
     },
     "execution_count": 262,
     "metadata": {},
     "output_type": "execute_result"
    }
   ],
   "source": [
    "messed_up_df"
   ]
  },
  {
   "cell_type": "code",
   "execution_count": 263,
   "metadata": {},
   "outputs": [],
   "source": [
    "# 17th Jan 2021 00:00:00 PST \n",
    "# 18th Jan 2021 00:00:00 PST \n",
    "\n",
    "start_time = 1610870400000\n",
    "end_time = 1610956800000\n",
    "DATALOG_SIZE = 20000\n",
    "\n",
    "sampled_df = df[all_cols].sample(DATALOG_SIZE, replace=True, random_state=3)\n",
    "sampled_df['time_stamp'] = np.linspace(start_time, end_time, DATALOG_SIZE).astype(int)\n",
    "sampled_df = transform_input(sampled_df)\n",
    "\n",
    "sampled_df['salary'] = model_linear(sampled_df[feature_cols].values).detach().numpy()\n",
    "sampled_df['day'] = 3\n",
    "\n",
    "monitoring_df = monitoring_df.append(sampled_df)\n"
   ]
  },
  {
   "cell_type": "code",
   "execution_count": 264,
   "metadata": {},
   "outputs": [],
   "source": [
    "monitoring_df.reset_index(inplace=True)\n"
   ]
  },
  {
   "cell_type": "code",
   "execution_count": 265,
   "metadata": {},
   "outputs": [
    {
     "data": {
      "text/plain": [
       "<seaborn.axisgrid.FacetGrid at 0x7fcb7e071890>"
      ]
     },
     "execution_count": 265,
     "metadata": {},
     "output_type": "execute_result"
    },
    {
     "data": {
      "image/png": "[encoded data removed]",
      "text/plain": [
       "<Figure size 402.375x360 with 1 Axes>"
      ]
     },
     "metadata": {
      "needs_background": "light"
     },
     "output_type": "display_data"
    }
   ],
   "source": [
    "sns.displot(data=monitoring_df, x=\"salary\", hue=\"day\", kde=True)"
   ]
  },
  {
   "cell_type": "code",
   "execution_count": 266,
   "metadata": {},
   "outputs": [
    {
     "data": {
      "text/html": [
       "<div>\n",
       "<style scoped>\n",
       "    .dataframe tbody tr th:only-of-type {\n",
       "        vertical-align: middle;\n",
       "    }\n",
       "\n",
       "    .dataframe tbody tr th {\n",
       "        vertical-align: top;\n",
       "    }\n",
       "\n",
       "    .dataframe thead th {\n",
       "        text-align: right;\n",
       "    }\n",
       "</style>\n",
       "<table border=\"1\" class=\"dataframe\">\n",
       "  <thead>\n",
       "    <tr style=\"text-align: right;\">\n",
       "      <th></th>\n",
       "      <th>index</th>\n",
       "      <th>job_location</th>\n",
       "      <th>education</th>\n",
       "      <th>relevant_exp</th>\n",
       "      <th>experience</th>\n",
       "      <th>engg_type</th>\n",
       "      <th>time_stamp</th>\n",
       "      <th>salary</th>\n",
       "      <th>day</th>\n",
       "      <th>gender</th>\n",
       "    </tr>\n",
       "  </thead>\n",
       "  <tbody>\n",
       "    <tr>\n",
       "      <th>0</th>\n",
       "      <td>235</td>\n",
       "      <td>1</td>\n",
       "      <td>1</td>\n",
       "      <td>14.67</td>\n",
       "      <td>15.13</td>\n",
       "      <td>1</td>\n",
       "      <td>1610697600000</td>\n",
       "      <td>174863.0</td>\n",
       "      <td>1</td>\n",
       "      <td>1.0</td>\n",
       "    </tr>\n",
       "    <tr>\n",
       "      <th>1</th>\n",
       "      <td>5192</td>\n",
       "      <td>1</td>\n",
       "      <td>0</td>\n",
       "      <td>0.00</td>\n",
       "      <td>0.00</td>\n",
       "      <td>1</td>\n",
       "      <td>1610697604320</td>\n",
       "      <td>80000.0</td>\n",
       "      <td>1</td>\n",
       "      <td>1.0</td>\n",
       "    </tr>\n",
       "    <tr>\n",
       "      <th>2</th>\n",
       "      <td>905</td>\n",
       "      <td>0</td>\n",
       "      <td>0</td>\n",
       "      <td>0.35</td>\n",
       "      <td>2.05</td>\n",
       "      <td>1</td>\n",
       "      <td>1610697608640</td>\n",
       "      <td>61955.0</td>\n",
       "      <td>1</td>\n",
       "      <td>1.0</td>\n",
       "    </tr>\n",
       "    <tr>\n",
       "      <th>3</th>\n",
       "      <td>7813</td>\n",
       "      <td>0</td>\n",
       "      <td>0</td>\n",
       "      <td>7.83</td>\n",
       "      <td>8.71</td>\n",
       "      <td>1</td>\n",
       "      <td>1610697612960</td>\n",
       "      <td>100021.0</td>\n",
       "      <td>1</td>\n",
       "      <td>0.0</td>\n",
       "    </tr>\n",
       "    <tr>\n",
       "      <th>4</th>\n",
       "      <td>2895</td>\n",
       "      <td>1</td>\n",
       "      <td>1</td>\n",
       "      <td>13.62</td>\n",
       "      <td>13.95</td>\n",
       "      <td>0</td>\n",
       "      <td>1610697617280</td>\n",
       "      <td>159495.0</td>\n",
       "      <td>1</td>\n",
       "      <td>0.0</td>\n",
       "    </tr>\n",
       "    <tr>\n",
       "      <th>...</th>\n",
       "      <td>...</td>\n",
       "      <td>...</td>\n",
       "      <td>...</td>\n",
       "      <td>...</td>\n",
       "      <td>...</td>\n",
       "      <td>...</td>\n",
       "      <td>...</td>\n",
       "      <td>...</td>\n",
       "      <td>...</td>\n",
       "      <td>...</td>\n",
       "    </tr>\n",
       "    <tr>\n",
       "      <th>59995</th>\n",
       "      <td>9247</td>\n",
       "      <td>0</td>\n",
       "      <td>0</td>\n",
       "      <td>0.00</td>\n",
       "      <td>0.00</td>\n",
       "      <td>1</td>\n",
       "      <td>1610956782719</td>\n",
       "      <td>60000.0</td>\n",
       "      <td>3</td>\n",
       "      <td>1.0</td>\n",
       "    </tr>\n",
       "    <tr>\n",
       "      <th>59996</th>\n",
       "      <td>1711</td>\n",
       "      <td>1</td>\n",
       "      <td>0</td>\n",
       "      <td>0.00</td>\n",
       "      <td>0.00</td>\n",
       "      <td>1</td>\n",
       "      <td>1610956787039</td>\n",
       "      <td>80000.0</td>\n",
       "      <td>3</td>\n",
       "      <td>0.0</td>\n",
       "    </tr>\n",
       "    <tr>\n",
       "      <th>59997</th>\n",
       "      <td>886</td>\n",
       "      <td>0</td>\n",
       "      <td>0</td>\n",
       "      <td>2.98</td>\n",
       "      <td>3.93</td>\n",
       "      <td>1</td>\n",
       "      <td>1610956791359</td>\n",
       "      <td>75293.0</td>\n",
       "      <td>3</td>\n",
       "      <td>0.0</td>\n",
       "    </tr>\n",
       "    <tr>\n",
       "      <th>59998</th>\n",
       "      <td>3566</td>\n",
       "      <td>1</td>\n",
       "      <td>0</td>\n",
       "      <td>6.05</td>\n",
       "      <td>6.20</td>\n",
       "      <td>1</td>\n",
       "      <td>1610956795679</td>\n",
       "      <td>110870.0</td>\n",
       "      <td>3</td>\n",
       "      <td>0.0</td>\n",
       "    </tr>\n",
       "    <tr>\n",
       "      <th>59999</th>\n",
       "      <td>9249</td>\n",
       "      <td>1</td>\n",
       "      <td>1</td>\n",
       "      <td>18.74</td>\n",
       "      <td>19.63</td>\n",
       "      <td>1</td>\n",
       "      <td>1610956800000</td>\n",
       "      <td>195663.0</td>\n",
       "      <td>3</td>\n",
       "      <td>0.0</td>\n",
       "    </tr>\n",
       "  </tbody>\n",
       "</table>\n",
       "<p>60000 rows × 10 columns</p>\n",
       "</div>"
      ],
      "text/plain": [
       "       index job_location education  relevant_exp  experience engg_type  \\\n",
       "0        235            1         1         14.67       15.13         1   \n",
       "1       5192            1         0          0.00        0.00         1   \n",
       "2        905            0         0          0.35        2.05         1   \n",
       "3       7813            0         0          7.83        8.71         1   \n",
       "4       2895            1         1         13.62       13.95         0   \n",
       "...      ...          ...       ...           ...         ...       ...   \n",
       "59995   9247            0         0          0.00        0.00         1   \n",
       "59996   1711            1         0          0.00        0.00         1   \n",
       "59997    886            0         0          2.98        3.93         1   \n",
       "59998   3566            1         0          6.05        6.20         1   \n",
       "59999   9249            1         1         18.74       19.63         1   \n",
       "\n",
       "          time_stamp    salary day  gender  \n",
       "0      1610697600000  174863.0   1     1.0  \n",
       "1      1610697604320   80000.0   1     1.0  \n",
       "2      1610697608640   61955.0   1     1.0  \n",
       "3      1610697612960  100021.0   1     0.0  \n",
       "4      1610697617280  159495.0   1     0.0  \n",
       "...              ...       ...  ..     ...  \n",
       "59995  1610956782719   60000.0   3     1.0  \n",
       "59996  1610956787039   80000.0   3     0.0  \n",
       "59997  1610956791359   75293.0   3     0.0  \n",
       "59998  1610956795679  110870.0   3     0.0  \n",
       "59999  1610956800000  195663.0   3     0.0  \n",
       "\n",
       "[60000 rows x 10 columns]"
      ]
     },
     "execution_count": 266,
     "metadata": {},
     "output_type": "execute_result"
    }
   ],
   "source": [
    "monitoring_df"
   ]
  },
  {
   "cell_type": "code",
   "execution_count": 267,
   "metadata": {},
   "outputs": [
    {
     "data": {
      "text/html": [
       "<div>\n",
       "<style scoped>\n",
       "    .dataframe tbody tr th:only-of-type {\n",
       "        vertical-align: middle;\n",
       "    }\n",
       "\n",
       "    .dataframe tbody tr th {\n",
       "        vertical-align: top;\n",
       "    }\n",
       "\n",
       "    .dataframe thead th {\n",
       "        text-align: right;\n",
       "    }\n",
       "</style>\n",
       "<table border=\"1\" class=\"dataframe\">\n",
       "  <thead>\n",
       "    <tr style=\"text-align: right;\">\n",
       "      <th></th>\n",
       "      <th></th>\n",
       "      <th>index</th>\n",
       "      <th>relevant_exp</th>\n",
       "      <th>experience</th>\n",
       "      <th>salary</th>\n",
       "    </tr>\n",
       "    <tr>\n",
       "      <th>gender</th>\n",
       "      <th>day</th>\n",
       "      <th></th>\n",
       "      <th></th>\n",
       "      <th></th>\n",
       "      <th></th>\n",
       "    </tr>\n",
       "  </thead>\n",
       "  <tbody>\n",
       "    <tr>\n",
       "      <th rowspan=\"3\" valign=\"top\">0.0</th>\n",
       "      <th>1</th>\n",
       "      <td>4973.647767</td>\n",
       "      <td>6.482698</td>\n",
       "      <td>7.021339</td>\n",
       "      <td>113477.941735</td>\n",
       "    </tr>\n",
       "    <tr>\n",
       "      <th>2</th>\n",
       "      <td>4983.860546</td>\n",
       "      <td>6.401769</td>\n",
       "      <td>6.938160</td>\n",
       "      <td>105057.870132</td>\n",
       "    </tr>\n",
       "    <tr>\n",
       "      <th>3</th>\n",
       "      <td>4909.478066</td>\n",
       "      <td>6.433521</td>\n",
       "      <td>6.963564</td>\n",
       "      <td>113023.119566</td>\n",
       "    </tr>\n",
       "    <tr>\n",
       "      <th rowspan=\"3\" valign=\"top\">1.0</th>\n",
       "      <th>1</th>\n",
       "      <td>5047.256130</td>\n",
       "      <td>6.441744</td>\n",
       "      <td>6.967987</td>\n",
       "      <td>113298.857376</td>\n",
       "    </tr>\n",
       "    <tr>\n",
       "      <th>2</th>\n",
       "      <td>5030.853269</td>\n",
       "      <td>6.482778</td>\n",
       "      <td>7.024244</td>\n",
       "      <td>113649.606153</td>\n",
       "    </tr>\n",
       "    <tr>\n",
       "      <th>3</th>\n",
       "      <td>5045.037097</td>\n",
       "      <td>6.452797</td>\n",
       "      <td>6.990782</td>\n",
       "      <td>113557.211320</td>\n",
       "    </tr>\n",
       "  </tbody>\n",
       "</table>\n",
       "</div>"
      ],
      "text/plain": [
       "                  index  relevant_exp  experience         salary\n",
       "gender day                                                      \n",
       "0.0    1    4973.647767      6.482698    7.021339  113477.941735\n",
       "       2    4983.860546      6.401769    6.938160  105057.870132\n",
       "       3    4909.478066      6.433521    6.963564  113023.119566\n",
       "1.0    1    5047.256130      6.441744    6.967987  113298.857376\n",
       "       2    5030.853269      6.482778    7.024244  113649.606153\n",
       "       3    5045.037097      6.452797    6.990782  113557.211320"
      ]
     },
     "execution_count": 267,
     "metadata": {},
     "output_type": "execute_result"
    }
   ],
   "source": [
    "monitoring_df.groupby(['gender','day']).mean()"
   ]
  },
  {
   "cell_type": "markdown",
   "metadata": {},
   "source": [
    "### Other metrics"
   ]
  },
  {
   "cell_type": "code",
   "execution_count": 299,
   "metadata": {},
   "outputs": [],
   "source": [
    "mdf_day1 = monitoring_df[monitoring_df['day'] == 2]\n",
    "\n",
    "def labelgen(n):\n",
    "    threshold = 200000\n",
    "    if n>threshold:\n",
    "        return 1\n",
    "    else:\n",
    "        return 0\n",
    "    \n",
    "mdf_day1['label'] = mdf_day1['salary'].apply(labelgen)"
   ]
  },
  {
   "cell_type": "code",
   "execution_count": 300,
   "metadata": {},
   "outputs": [],
   "source": [
    "from aif360.metrics import BinaryLabelDatasetMetric\n",
    "from aif360.datasets import BinaryLabelDataset"
   ]
  },
  {
   "cell_type": "code",
   "execution_count": 301,
   "metadata": {},
   "outputs": [
    {
     "name": "stdout",
     "output_type": "stream",
     "text": [
      "Statistical difference -0.01049500132398435\n",
      "Disparate Impact 0.6554431791242081\n"
     ]
    }
   ],
   "source": [
    "privileged_groups = [{'gender': 1}]\n",
    "unprivileged_groups = [{'gender': 0}]\n",
    "\n",
    "binaryLabelDataset = BinaryLabelDataset(\n",
    "    favorable_label=1,\n",
    "    unfavorable_label=0,\n",
    "    df=mdf_day1,\n",
    "    label_names=['label'],\n",
    "    protected_attribute_names=['gender'])\n",
    "\n",
    "metric_orig_train = BinaryLabelDatasetMetric(binaryLabelDataset, \n",
    "                                             unprivileged_groups=unprivileged_groups,\n",
    "                                             privileged_groups=privileged_groups)\n",
    "print(\"Statistical difference\" , metric_orig_train.mean_difference())\n",
    "print(\"Disparate Impact\" , metric_orig_train.disparate_impact())"
   ]
  },
  {
   "cell_type": "markdown",
   "metadata": {},
   "source": [
    "### Plot this for day 2 (fairness drift) and for either of day 1 or 3 (no drift)"
   ]
  },
  {
   "cell_type": "code",
   "execution_count": 273,
   "metadata": {},
   "outputs": [
    {
     "data": {
      "image/png": "[encoded data removed]",
      "text/plain": [
       "<Figure size 360x360 with 1 Axes>"
      ]
     },
     "metadata": {
      "needs_background": "light"
     },
     "output_type": "display_data"
    }
   ],
   "source": [
    "plt.rcParams['axes.grid'] = True\n",
    "plt.rcParams['grid.alpha'] = 1\n",
    "plt.rcParams['grid.color'] = \"#cccccc\"\n",
    "plt.rcParams['axes.edgecolor'] = \"#cccccc\"\n",
    "plt.rcParams[\"pdf.fonttype\"] = 42\n",
    "plt.rcParams[\"ps.fonttype\"] = 42\n",
    "plt.rcParams[\"font.family\"] = 'DejaVu Serif'\n",
    "plt.rcParams[\"figure.figsize\"] = (7.5,5)\n",
    "\n",
    "g = sns.displot(data=monitoring_df[monitoring_df['day'] == 3], kind=\"kde\", \n",
    "            x=\"salary\", hue=\"gender\", palette = 'viridis', facet_kws={'legend_out': False})\n",
    "\n",
    "ax = plt.gca()\n",
    "ax.set_facecolor('white')\n",
    "# ax.get_legend().remove()\n",
    "ax.xaxis.grid(False)\n",
    "# if log == True:\n",
    "#     ax.set(yscale=\"symlog\")\n",
    "ax.yaxis.grid(True,which='both')\n",
    "ax.tick_params(axis='y', which='both',labelsize=14)\n",
    "ax.tick_params(axis='x', which='both',labelsize=12)\n",
    "  \n",
    "plt.xlabel('Salary (in $)',fontsize=16,weight='bold') \n",
    "plt.ylabel('Probability Density',fontsize=16,weight='bold') \n",
    "# plt.title(f'Train and Test prediction distribution')\n",
    "# plt.savefig('Europe_probdist.pdf',bbox_inches='tight')\n",
    "new_title = 'Gender'\n",
    "g._legend.set_title(new_title)\n",
    "# replace labels\n",
    "new_labels = ['Women', 'Men']\n",
    "for t, l in zip(g._legend.texts, new_labels):\n",
    "    t.set_text(l)\n",
    "    \n",
    "plt.savefig('Dist_day3.pdf',bbox_inches='tight')"
   ]
  },
  {
   "cell_type": "code",
   "execution_count": 274,
   "metadata": {},
   "outputs": [],
   "source": [
    "# malesaldf = monitoring_df[monitoring_df['gender'] == 0.0]\n",
    "# femalesaldf = monitoring_df[monitoring_df['gender'] == 1.0]"
   ]
  },
  {
   "cell_type": "code",
   "execution_count": 275,
   "metadata": {},
   "outputs": [],
   "source": [
    "# import datetime as dt\n",
    "\n",
    "# malesaldf['time_stamp'] = pd.to_datetime(malesaldf['time_stamp'], unit='ms')\n",
    "# femalesaldf['time_stamp'] = pd.to_datetime(femalesaldf['time_stamp'], unit='ms')"
   ]
  },
  {
   "cell_type": "code",
   "execution_count": 276,
   "metadata": {},
   "outputs": [],
   "source": [
    "# start_time = 1610870400000\n",
    "# end_time = 1610956800000\n",
    "# period = 2000000\n",
    "\n",
    "# md = []\n",
    "# periods = []\n",
    "# c = 0\n",
    "# i = start_time\n",
    "\n",
    "# while i<end_time:\n",
    "#     dt1 = pd.to_datetime(i, unit='ms')\n",
    "#     dt2 = pd.to_datetime(i+period, unit='ms')\n",
    "#     mmean = np.mean(malesaldf[(malesaldf.time_stamp>=dt1) & (malesaldf.time_stamp<dt2)]['salary'])\n",
    "#     fmean = np.mean(femalesaldf[(femalesaldf.time_stamp>=dt1) & (femalesaldf.time_stamp<dt2)]['salary'])\n",
    "    \n",
    "#     if not mmean:\n",
    "#         mmean = 0\n",
    "#     if not fmean:\n",
    "#         fmean = 0\n",
    "#     i+=period\n",
    "#     c+=1\n",
    "#     md.append(np.abs(mmean-fmean))\n",
    "#     periods.append(c)"
   ]
  },
  {
   "cell_type": "code",
   "execution_count": 277,
   "metadata": {},
   "outputs": [],
   "source": [
    "period_length = 800\n",
    "num_periods = int(len(monitoring_df)/period_length)\n",
    "\n",
    "reference = df['salary']\n",
    "monitoring_df['period'] = 0\n",
    "monitoring_df['mean_score_period'] = 0\n",
    "\n",
    "for period in range(num_periods):\n",
    "    monitoring_df['period'].iloc[period*period_length:(period + 1)*period_length] = period\n",
    "    target = deepcopy(monitoring_df[monitoring_df['period'] == period]['salary'])\n",
    "    monitoring_df['mean_score_period'].iloc[period*period_length:(period + 1)*period_length] = np.mean(target) - np.mean(reference)"
   ]
  },
  {
   "cell_type": "code",
   "execution_count": 278,
   "metadata": {},
   "outputs": [
    {
     "data": {
      "image/png": "[encoded data removed]",
      "text/plain": [
       "<Figure size 1620x360 with 1 Axes>"
      ]
     },
     "metadata": {
      "needs_background": "light"
     },
     "output_type": "display_data"
    }
   ],
   "source": [
    "plt.rcParams['axes.grid'] = True\n",
    "plt.rcParams['grid.alpha'] = 1\n",
    "plt.rcParams['grid.color'] = \"#cccccc\"\n",
    "plt.rcParams['axes.edgecolor'] = \"#cccccc\"\n",
    "plt.rcParams[\"pdf.fonttype\"] = 42\n",
    "plt.rcParams[\"ps.fonttype\"] = 42\n",
    "plt.rcParams[\"font.family\"] = 'DejaVu Serif'\n",
    "plt.rcParams[\"figure.figsize\"] = (22.5,5)\n",
    "\n",
    "sns.lineplot(data=monitoring_df, x='period', y='mean_score_period')\n",
    "\n",
    "ax = plt.gca()\n",
    "ax.set_facecolor('white')\n",
    "# ax.get_legend().remove()\n",
    "ax.xaxis.grid(False)\n",
    "# if log == True:\n",
    "#     ax.set(yscale=\"symlog\")\n",
    "ax.yaxis.grid(True,which='both')\n",
    "ax.tick_params(axis='y', which='both',labelsize=14)\n",
    "ax.tick_params(axis='x', which='both',labelsize=12)\n",
    "plt.axvline(x=24,  color='black', ls=':', lw=2)\n",
    "plt.axvline(x=48,  color='black', ls=':', lw=2)\n",
    "\n",
    "plt.annotate('Day One', xy =(12, -6000), xytext =(0, -6500),fontsize=12,weight='bold')\n",
    "plt.annotate('Day Two', xy =(12, -6000), xytext =(26, -6500),fontsize=12,weight='bold')\n",
    "plt.annotate('Day Three', xy =(12, -6000), xytext =(51, -6500),fontsize=12,weight='bold')\n",
    "\n",
    "\n",
    "  \n",
    "plt.xlabel('Time Period (hours)',fontsize=18,weight='bold') \n",
    "plt.ylabel('QDD (Salary in $)',fontsize=18,weight='bold') \n",
    "\n",
    "plt.savefig('QDD_casestudy.pdf',bbox_inches='tight')"
   ]
  },
  {
   "cell_type": "markdown",
   "metadata": {},
   "source": [
    "# Shapley\n"
   ]
  },
  {
   "cell_type": "markdown",
   "metadata": {},
   "source": [
    "#### Expected value difference"
   ]
  },
  {
   "cell_type": "markdown",
   "metadata": {},
   "source": [
    "### During a period of artificial drift"
   ]
  },
  {
   "cell_type": "code",
   "execution_count": 304,
   "metadata": {},
   "outputs": [
    {
     "name": "stderr",
     "output_type": "stream",
     "text": [
      "To copy construct from a tensor, it is recommended to use sourceTensor.clone().detach() or sourceTensor.clone().detach().requires_grad_(True), rather than torch.tensor(sourceTensor).\n"
     ]
    },
    {
     "name": "stdout",
     "output_type": "stream",
     "text": [
      "156.19533333333675\n",
      "Shap values for model are [[-146.66666667  264.44444444  127.25555556    3.38422222  -92.22222222]]\n"
     ]
    }
   ],
   "source": [
    "#target = monitoring_df[monitoring_df['period'] == 22][feature_cols].values\n",
    "#reference = transform_input(df.sample(n=100, random_state=1)[feature_cols]).values\n",
    "day = 1\n",
    "\n",
    "target = monitoring_df[(monitoring_df['day'] == day) & (monitoring_df['gender'] == 0.0)][feature_cols].sample(n=9000, random_state=1).values\n",
    "reference = monitoring_df[(monitoring_df['day'] == day) & (monitoring_df['gender'] == 1.0)][feature_cols].sample(n=9000, random_state=1).values\n",
    "\n",
    "target_torch = torch.tensor(target.astype('float'), dtype=torch.float64)\n",
    "reference_torch = torch.tensor(reference.astype('float'), dtype=torch.float64)\n",
    "\n",
    "target_pred = model_linear(target_torch).detach().numpy()\n",
    "reference_pred = model_linear(reference_torch).detach().numpy()\n",
    "\n",
    "print(np.mean(target_pred) - np.mean(reference_pred))\n",
    "\n",
    "def drift_score_fn(target, reference):\n",
    "    target_pred = model_linear(target)\n",
    "    reference_pred = model_linear(reference)\n",
    "    return drift_metrics.mean_drift_score(target_pred.detach().numpy(), reference_pred.detach().numpy())\n",
    "\n",
    "attrs = drift_attribution.drift_shapley_group_approximation(reference_torch, target_torch, drift_score_fn, group_sizes=None)\n",
    "print(f'Shap values for model are {attrs}') "
   ]
  },
  {
   "cell_type": "markdown",
   "metadata": {},
   "source": [
    "### Plot this for drift"
   ]
  },
  {
   "cell_type": "code",
   "execution_count": 305,
   "metadata": {},
   "outputs": [],
   "source": [
    "attrsDF = pd.DataFrame(data=attrs, columns=feature_cols)"
   ]
  },
  {
   "cell_type": "code",
   "execution_count": 306,
   "metadata": {},
   "outputs": [
    {
     "data": {
      "image/png": "[encoded data removed]",
      "text/plain": [
       "<Figure size 540x360 with 1 Axes>"
      ]
     },
     "metadata": {
      "needs_background": "light"
     },
     "output_type": "display_data"
    }
   ],
   "source": [
    "plt.rcParams['axes.grid'] = True\n",
    "plt.rcParams['grid.alpha'] = 1\n",
    "plt.rcParams['grid.color'] = \"#cccccc\"\n",
    "plt.rcParams['axes.edgecolor'] = \"#cccccc\"\n",
    "plt.rcParams[\"pdf.fonttype\"] = 42\n",
    "plt.rcParams[\"ps.fonttype\"] = 42\n",
    "plt.rcParams[\"font.family\"] = 'DejaVu Serif'\n",
    "plt.rcParams[\"figure.figsize\"] = (7.5,5)\n",
    "\n",
    "sns.barplot(data=attrsDF,zorder=3,palette = 'colorblind')\n",
    "\n",
    "ax = plt.gca()\n",
    "ax.set_facecolor('white')\n",
    "# ax.get_legend().remove()\n",
    "ax.xaxis.grid(False)\n",
    "# if log == True:\n",
    "#     ax.set(yscale=\"symlog\")\n",
    "labels = ['Job Location', 'Education', 'Relv. Exp.', 'Total Exp.', 'Engg Type']\n",
    "ax.set_xticklabels(labels,rotation = 90,weight='bold')\n",
    "ax.xaxis.set_tick_params(labelsize=24)\n",
    "ax.yaxis.grid(True,which='both')\n",
    "ax.tick_params(axis='y', which='both',labelsize=14)\n",
    "ax.tick_params(axis='x', which='both',labelsize=12)\n",
    "# plt.xlabel('Time Period (hours)',fontsize=18,weight='bold') \n",
    "plt.ylabel('Feature Importance',fontsize=20,weight='bold') \n",
    "\n",
    "plt.savefig('Explanations_day1.pdf',bbox_inches='tight')"
   ]
  },
  {
   "cell_type": "markdown",
   "metadata": {},
   "source": [
    "### During a period of no drift"
   ]
  },
  {
   "cell_type": "code",
   "execution_count": 86,
   "metadata": {},
   "outputs": [
    {
     "name": "stderr",
     "output_type": "stream",
     "text": [
      "/home/avijit/anaconda3/envs/py37/lib/python3.7/site-packages/ipykernel_launcher.py:14: UserWarning: To copy construct from a tensor, it is recommended to use sourceTensor.clone().detach() or sourceTensor.clone().detach().requires_grad_(True), rather than torch.tensor(sourceTensor).\n",
      "  \n"
     ]
    },
    {
     "name": "stdout",
     "output_type": "stream",
     "text": [
      "-156.19533333333675\n",
      "Shap values for model are [[ 146.66666667 -264.44444444 -127.25555556   -3.38422222   92.22222222]]\n"
     ]
    }
   ],
   "source": [
    "#target = monitoring_df[monitoring_df['period'] == 22][feature_cols].values\n",
    "#reference = transform_input(df.sample(n=100, random_state=1)[feature_cols]).values\n",
    "\n",
    "\n",
    "target = monitoring_df[(monitoring_df['day'] == 1) & (monitoring_df['gender'] == 1.0)][feature_cols].sample(n=9000, random_state=1).values\n",
    "reference = monitoring_df[(monitoring_df['day'] == 1) & (monitoring_df['gender'] == 0.0)][feature_cols].sample(n=9000, random_state=1).values\n",
    "\n",
    "target_torch = torch.tensor(target.astype('float'), dtype=torch.float64)\n",
    "reference_torch = torch.tensor(reference.astype('float'), dtype=torch.float64)\n",
    "\n",
    "target_pred = model_linear(target_torch).detach().numpy()\n",
    "reference_pred = model_linear(reference_torch).detach().numpy()\n",
    "\n",
    "print(np.mean(target_pred) - np.mean(reference_pred))\n",
    "\n",
    "def drift_score_fn(target, reference):\n",
    "    target_pred = model_linear(target)\n",
    "    reference_pred = model_linear(reference)\n",
    "    return drift_metrics.mean_drift_score(target_pred.detach().numpy(), reference_pred.detach().numpy())\n",
    "\n",
    "attrs = drift_attribution.drift_shapley_group_approximation(reference_torch, target_torch, drift_score_fn, group_sizes=None)\n",
    "print(f'Shap values for model are {attrs}') "
   ]
  },
  {
   "cell_type": "code",
   "execution_count": 41,
   "metadata": {},
   "outputs": [
    {
     "data": {
      "text/plain": [
       "array([[ 146.66666667, -264.44444444, -127.25555556,   -3.38422222,\n",
       "          92.22222222]])"
      ]
     },
     "execution_count": 41,
     "metadata": {},
     "output_type": "execute_result"
    }
   ],
   "source": [
    "attrs"
   ]
  },
  {
   "cell_type": "markdown",
   "metadata": {},
   "source": [
    "### Plot this for no drift\n"
   ]
  },
  {
   "cell_type": "code",
   "execution_count": 82,
   "metadata": {},
   "outputs": [
    {
     "data": {
      "text/plain": [
       "<AxesSubplot:>"
      ]
     },
     "execution_count": 82,
     "metadata": {},
     "output_type": "execute_result"
    },
    {
     "data": {
      "image/png": "[encoded data removed]",
      "text/plain": [
       "<Figure size 540x360 with 1 Axes>"
      ]
     },
     "metadata": {
      "needs_background": "light"
     },
     "output_type": "display_data"
    }
   ],
   "source": [
    "attrsDF = pd.DataFrame(data=attrs, columns=feature_cols)\n",
    "sns.barplot(data=attrsDF)"
   ]
  },
  {
   "cell_type": "code",
   "execution_count": null,
   "metadata": {},
   "outputs": [],
   "source": []
  }
 ],
 "metadata": {
  "kernelspec": {
   "display_name": "Python [conda env:py37]",
   "language": "python",
   "name": "conda-env-py37-py"
  },
  "language_info": {
   "codemirror_mode": {
    "name": "ipython",
    "version": 3
   },
   "file_extension": ".py",
   "mimetype": "text/x-python",
   "name": "python",
   "nbconvert_exporter": "python",
   "pygments_lexer": "ipython3",
   "version": "3.7.11"
  }
 },
 "nbformat": 4,
 "nbformat_minor": 2
}
